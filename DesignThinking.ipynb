{
  "nbformat": 4,
  "nbformat_minor": 0,
  "metadata": {
    "colab": {
      "name": "DesignThinking.ipynb",
      "provenance": [],
      "authorship_tag": "ABX9TyPFeMdqYa/kGjZnKYL+mrGf",
      "include_colab_link": true
    },
    "kernelspec": {
      "name": "python3",
      "display_name": "Python 3"
    }
  },
  "cells": [
    {
      "cell_type": "markdown",
      "metadata": {
        "id": "view-in-github",
        "colab_type": "text"
      },
      "source": [
        "<a href=\"https://colab.research.google.com/github/ThanhHieuBui/Bar-chart-with-python-basic/blob/master/DesignThinking.ipynb\" target=\"_parent\"><img src=\"https://colab.research.google.com/assets/colab-badge.svg\" alt=\"Open In Colab\"/></a>"
      ]
    },
    {
      "cell_type": "markdown",
      "metadata": {
        "id": "uzcfvMRnPlBz"
      },
      "source": [
        "1. Design Thinking là gì?\n"
      ]
    }
  ]
}